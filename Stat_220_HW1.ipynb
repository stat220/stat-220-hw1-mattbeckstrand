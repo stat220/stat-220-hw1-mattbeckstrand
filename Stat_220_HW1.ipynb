{
  "cells": [
    {
      "cell_type": "markdown",
      "metadata": {
        "id": "89jLpRM-VfLP"
      },
      "source": [
        "[![Open in Colab](https://colab.research.google.com/assets/colab-badge.svg)](https://colab.research.google.com/github/drbob-richardson/stat220/blob/main/Assignments/Stat_220_HW1.ipynb)\n"
      ]
    },
    {
      "cell_type": "markdown",
      "metadata": {
        "id": "rAHSgD3t8Oct"
      },
      "source": [
        "**Problem 1**. Give an example of a variable that is (a) categorical; (b) quantitative; (c) discrete; (d) continuous.\n",
        "\n"
      ]
    },
    {
      "cell_type": "markdown",
      "metadata": {
        "id": "dsfbC4NlASWt"
      },
      "source": []
    },
    {
      "cell_type": "markdown",
      "metadata": {
        "id": "724wPOyj8SMA"
      },
      "source": [
        "**Problem 2**. Analyze the Carbon_West data file using the following code."
      ]
    },
    {
      "cell_type": "code",
      "execution_count": 48,
      "metadata": {
        "id": "tSTav9vfVfLT"
      },
      "outputs": [],
      "source": [
        "import pandas as pd\n",
        "import numpy as np\n",
        "import matplotlib.pyplot as plt\n",
        "carbon_west = pd.read_fwf(\"https://stat4ds.rwth-aachen.de/data/Carbon_West.dat\")\n",
        "from sklearn.linear_model import LinearRegression"
      ]
    },
    {
      "cell_type": "markdown",
      "metadata": {
        "id": "8eVNIOzIBLvz"
      },
      "source": [
        "Part a. Construct a histogram of CO2 emissions."
      ]
    },
    {
      "cell_type": "code",
      "execution_count": 3,
      "metadata": {
        "id": "hpYwEy9D6uCb",
        "outputId": "381a03b3-8532-4ce2-b4e5-25a49a82cf62",
        "colab": {
          "base_uri": "https://localhost:8080/",
          "height": 591
        }
      },
      "outputs": [
        {
          "output_type": "stream",
          "name": "stdout",
          "text": [
            "      Nation   CO2\n",
            "0    Albania   2.0\n",
            "1  Australia  15.4\n",
            "2    Austria   6.9\n",
            "3    Belgium   8.3\n",
            "4     Bosnia   6.2\n",
            "Index(['Nation', 'CO2'], dtype='object')\n"
          ]
        },
        {
          "output_type": "display_data",
          "data": {
            "text/plain": [
              "<Figure size 640x480 with 1 Axes>"
            ],
            "image/png": "[encoded data removed]"
          },
          "metadata": {}
        }
      ],
      "source": [
        "print(carbon_west.head())\n",
        "print(carbon_west.columns)\n",
        "emissions = carbon_west['CO2']\n",
        "plt.hist(emissions)\n",
        "plt.xlabel(\"CO2 emissions\")\n",
        "plt.ylabel(\"Frequency\")\n",
        "plt.title(\"Histogram of CO2 emissions\")\n",
        "plt.show()\n"
      ]
    },
    {
      "cell_type": "markdown",
      "metadata": {
        "id": "okwY6u3RA2HW"
      },
      "source": [
        "Part b. Find the mean, median, and standard deviation."
      ]
    },
    {
      "cell_type": "code",
      "execution_count": 4,
      "metadata": {
        "id": "zRgquQXDBU7d",
        "outputId": "2b8b1c34-bc1b-4602-ffba-37b245c14631",
        "colab": {
          "base_uri": "https://localhost:8080/"
        }
      },
      "outputs": [
        {
          "output_type": "stream",
          "name": "stdout",
          "text": [
            "Mean:  6.717142857142858\n",
            "Median:  5.9\n",
            "Standard Deviation:  3.3086454469884727\n"
          ]
        }
      ],
      "source": [
        "mean = np.mean(emissions)\n",
        "median = np.median(emissions)\n",
        "std = np.std(emissions)\n",
        "print(\"Mean: \", mean)\n",
        "print(\"Median: \", median)\n",
        "print(\"Standard Deviation: \", std)"
      ]
    },
    {
      "cell_type": "markdown",
      "metadata": {
        "id": "51Jc1C0G8pyj"
      },
      "source": [
        "**Problem 3**. Read in the murder data set using the following code. The variable murder is the murder rate (per 100,000 population) for each state in the U.S. in 2017 according to the FBI Uniform Crime Reports. At first, do not use the observation for D.C. (DC)."
      ]
    },
    {
      "cell_type": "code",
      "execution_count": 20,
      "metadata": {
        "id": "1_pqTSdYVfLV"
      },
      "outputs": [],
      "source": [
        "murders = pd.read_fwf(\"https://stat4ds.rwth-aachen.de/data/Murder.dat\")"
      ]
    },
    {
      "cell_type": "markdown",
      "metadata": {
        "id": "GZZLzlxUBHNq"
      },
      "source": [
        ":Part a. Find the mean and standard deviation for murders without D.C."
      ]
    },
    {
      "cell_type": "code",
      "execution_count": 35,
      "metadata": {
        "id": "aWW3ZbwCBfNI",
        "outputId": "79a953d6-22eb-4a84-9464-315ed83017ab",
        "colab": {
          "base_uri": "https://localhost:8080/"
        }
      },
      "outputs": [
        {
          "output_type": "stream",
          "name": "stdout",
          "text": [
            "No D.C murder mean:  4.874\n",
            "No D.C std deviation:  2.560297638947472\n"
          ]
        }
      ],
      "source": [
        "murdersNoDc = murders[murders['state'] != 'DC']\n",
        "murderRates = murdersNoDc['murder']\n",
        "\n",
        "meanMurder = np.mean(murderRates)\n",
        "stdMurder = np.std(murderRates)\n",
        "\n",
        "print(\"No D.C murder mean: \", meanMurder)\n",
        "print(\"No D.C std deviation: \", stdMurder)\n"
      ]
    },
    {
      "cell_type": "markdown",
      "metadata": {
        "id": "i2g3hF1gBfmV"
      },
      "source": [
        "Part b. Find the five-number  summary without D.C."
      ]
    },
    {
      "cell_type": "code",
      "execution_count": 36,
      "metadata": {
        "id": "JHUzgc_CBkuo",
        "outputId": "443cb883-6df0-4732-d66e-62511b227fa8",
        "colab": {
          "base_uri": "https://localhost:8080/"
        }
      },
      "outputs": [
        {
          "output_type": "stream",
          "name": "stdout",
          "text": [
            "Minimum:  1.0\n",
            "Q1:  2.625\n",
            "Median:  4.85\n",
            "Q3:  6.175\n",
            "Maximum:  12.4\n"
          ]
        }
      ],
      "source": [
        "x = murderRates\n",
        "minimum = np.min(x)\n",
        "q1 = np.percentile(x, 25)\n",
        "median = np.median(x)\n",
        "q3 = np.percentile(x, 75)\n",
        "maximum = np.max(x)\n",
        "print(\"Minimum: \", minimum)\n",
        "print(\"Q1: \", q1)\n",
        "print(\"Median: \", median)\n",
        "print(\"Q3: \", q3)\n",
        "print(\"Maximum: \", maximum)"
      ]
    },
    {
      "cell_type": "markdown",
      "metadata": {
        "id": "StEDIf2eBlEo"
      },
      "source": [
        "Part c. Now include the observation for D.C. and recalculate the mean, median, and five-number summary. What is affected more by this outlier: The mean or the median? The range or the inter-quartile range?"
      ]
    },
    {
      "cell_type": "code",
      "execution_count": 68,
      "metadata": {
        "id": "0E-QkG4K85Ti",
        "outputId": "7c343d99-e72f-49cb-b3fa-4a49c9458973",
        "colab": {
          "base_uri": "https://localhost:8080/"
        }
      },
      "outputs": [
        {
          "output_type": "stream",
          "name": "stdout",
          "text": [
            "Minimum:  1.0\n",
            "Q1:  2.6500000000000004\n",
            "Median:  5.0\n",
            "Q3:  6.45\n",
            "Maximum:  24.2\n",
            "Range:  23.2\n",
            "IQR:  3.8\n"
          ]
        }
      ],
      "source": [
        "x = murders['murder']\n",
        "minimum = np.min(x)\n",
        "q1 = np.percentile(x, 25)\n",
        "median = np.median(x)\n",
        "q3 = np.percentile(x, 75)\n",
        "maximum = np.max(x)\n",
        "range = maximum - minimum\n",
        "iqr = q3 - q1\n",
        "print(\"Minimum: \", minimum)\n",
        "print(\"Q1: \", q1)\n",
        "print(\"Median: \", median)\n",
        "print(\"Q3: \", q3)\n",
        "print(\"Maximum: \", maximum)\n",
        "print(\"Range: \", range)\n",
        "print(\"IQR: \", iqr)\n"
      ]
    },
    {
      "cell_type": "markdown",
      "metadata": {
        "id": "XSUrzIUN9Usb"
      },
      "source": [
        "**Problem 4**. Read in the Houses data file using the following code.  The variables include price (thousands of dollars), size (square feet), tax bill (dollars), number of bathrooms, number of bedrooms, and whether the house is new (1 = yes, 0 = no) for 100 home sales in Gainesville, Florida. Let\n",
        "y = selling price and x = size of home."
      ]
    },
    {
      "cell_type": "code",
      "execution_count": 55,
      "metadata": {
        "id": "j84-vll6VfLW",
        "outputId": "53ced00c-311d-4fd5-9ca3-08956a2c1cb7",
        "colab": {
          "base_uri": "https://localhost:8080/"
        }
      },
      "outputs": [
        {
          "output_type": "stream",
          "name": "stdout",
          "text": [
            "Index(['case', 'price', 'size', 'new', 'taxes', 'bedrooms', 'baths'], dtype='object')\n"
          ]
        }
      ],
      "source": [
        "houses = pd.read_fwf(\"https://stat4ds.rwth-aachen.de/data/Houses.dat\")\n",
        "print(houses.columns)"
      ]
    },
    {
      "cell_type": "markdown",
      "metadata": {
        "id": "ANDMQnnNCDJ_"
      },
      "source": [
        "Part a. Construct a scatterplot between square feet and price of a home."
      ]
    },
    {
      "cell_type": "code",
      "execution_count": 46,
      "metadata": {
        "id": "NR78IlfS9UQL",
        "outputId": "d6fe89ba-3f47-4ef3-9c3f-92ba7bde68c8",
        "colab": {
          "base_uri": "https://localhost:8080/",
          "height": 472
        }
      },
      "outputs": [
        {
          "output_type": "display_data",
          "data": {
            "text/plain": [
              "<Figure size 640x480 with 1 Axes>"
            ],
            "image/png": "[encoded data removed]"
          },
          "metadata": {}
        }
      ],
      "source": [
        "x = houses['size']\n",
        "y = houses['price']\n",
        "plt.scatter(x, y, alpha = .7)\n",
        "plt.xlabel(\"Square feet\")\n",
        "plt.ylabel(\"Price (thousands of dollars)\")\n",
        "plt.title(\"Scatterplot of square feet vs. price\")\n",
        "plt.show()\n"
      ]
    },
    {
      "cell_type": "markdown",
      "metadata": {
        "id": "r3-QiSsACInq"
      },
      "source": [
        "Part b. Find the correlation between the two variables."
      ]
    },
    {
      "cell_type": "code",
      "execution_count": 50,
      "metadata": {
        "id": "1Z9oP-T6CMdx",
        "outputId": "83427f18-e170-4e4f-bb75-28a36ddc0e19",
        "colab": {
          "base_uri": "https://localhost:8080/"
        }
      },
      "outputs": [
        {
          "output_type": "stream",
          "name": "stdout",
          "text": [
            "Correlation: 0.8337847885586537\n"
          ]
        }
      ],
      "source": [
        "correlation = x.corr(y)\n",
        "print(\"Correlation:\", correlation)\n"
      ]
    },
    {
      "cell_type": "markdown",
      "metadata": {
        "id": "nCTcEbFSCM6J"
      },
      "source": [
        "Part c. Find and plot the regression line on top of the scatterplot."
      ]
    },
    {
      "cell_type": "code",
      "execution_count": 53,
      "metadata": {
        "id": "GpbKsjVmVfLX",
        "outputId": "9d8b11e0-bc2c-45e3-b5b2-ffe8b9a6ba20",
        "colab": {
          "base_uri": "https://localhost:8080/",
          "height": 410
        }
      },
      "outputs": [
        {
          "output_type": "display_data",
          "data": {
            "text/plain": [
              "<Figure size 600x400 with 1 Axes>"
            ],
            "image/png": "[encoded data removed]"
          },
          "metadata": {}
        }
      ],
      "source": [
        "x = houses[['size']]\n",
        "y = houses['price']\n",
        "\n",
        "model = LinearRegression()\n",
        "model.fit(x, y)\n",
        "\n",
        "\n",
        "plt.figure(figsize=(6, 4))\n",
        "plt.scatter(x, y, alpha=0.7, label='Scatterplot')\n",
        "\n",
        "# Plot the regression line\n",
        "plt.plot(x, model.predict(x), color='red', label='Regression Line')\n",
        "\n",
        "plt.title('Scatter Plot with Regression Line')\n",
        "plt.xlabel('Entry')\n",
        "plt.ylabel('Time')\n",
        "plt.legend()\n",
        "plt.grid(True)\n",
        "plt.show()"
      ]
    },
    {
      "cell_type": "markdown",
      "metadata": {
        "id": "PS2AwK3kVfLX"
      },
      "source": [
        "Part d. Create a side by side boxplot of price comparing homes that are new and homes that are not new."
      ]
    },
    {
      "cell_type": "code",
      "execution_count": 59,
      "metadata": {
        "id": "bQx10z1nVfLX",
        "outputId": "529a5991-1046-47db-8601-b89976b6531d",
        "colab": {
          "base_uri": "https://localhost:8080/",
          "height": 495
        }
      },
      "outputs": [
        {
          "output_type": "display_data",
          "data": {
            "text/plain": [
              "<Figure size 800x600 with 0 Axes>"
            ]
          },
          "metadata": {}
        },
        {
          "output_type": "display_data",
          "data": {
            "text/plain": [
              "<Figure size 640x480 with 1 Axes>"
            ],
            "image/png": "[encoded data removed]"
          },
          "metadata": {}
        }
      ],
      "source": [
        "plt.figure(figsize=(8, 6))\n",
        "houses.boxplot(column='price', by='new', vert=False)\n",
        "plt.title('Side-by-Side Box Plot of new and old homes')\n",
        "plt.xlabel('price')\n",
        "plt.ylabel('new or old')\n",
        "plt.show()"
      ]
    },
    {
      "cell_type": "markdown",
      "metadata": {
        "id": "PamAYinEVfLY"
      },
      "source": [
        "Part e. What is the relationship between size and price.  Justify your answer using the plots created. Do the same for the relationship between price and whether or not a house is new, again using the plot to justify your answer."
      ]
    },
    {
      "cell_type": "markdown",
      "metadata": {
        "id": "-5ol22kHVfLY"
      },
      "source": [
        "If a house is new, it is likely to be more expensive. We can see this clearly as the lowest price of a new house is almost at the median of the old houses."
      ]
    },
    {
      "cell_type": "markdown",
      "metadata": {
        "id": "QsOTfwzI9alX"
      },
      "source": [
        "**Problem 5**. Using the Happy data file read in by the following code. Construct the contingency table relating marital status and happiness."
      ]
    },
    {
      "cell_type": "code",
      "execution_count": 77,
      "metadata": {
        "id": "I1DyFbQLVfLY",
        "outputId": "5d593c2e-984a-4666-d03e-46d3eb1aeecb",
        "colab": {
          "base_uri": "https://localhost:8080/"
        }
      },
      "outputs": [
        {
          "output_type": "stream",
          "name": "stdout",
          "text": [
            "0       male\n",
            "1       male\n",
            "2       male\n",
            "3       male\n",
            "4       male\n",
            "        ... \n",
            "2137      fe\n",
            "2138      fe\n",
            "2139      fe\n",
            "2140      fe\n",
            "2141      fe\n",
            "Name: marital, Length: 2142, dtype: object\n"
          ]
        }
      ],
      "source": [
        "happy = pd.read_fwf(\"https://stat4ds.rwth-aachen.de/data/Happy.dat\")\n",
        "print(happy['marital'])"
      ]
    },
    {
      "cell_type": "code",
      "execution_count": 78,
      "metadata": {
        "id": "NP3JwT9o9btJ",
        "outputId": "b1214699-4ac2-4049-f65d-312f301ff3e8",
        "colab": {
          "base_uri": "https://localhost:8080/",
          "height": 221
        }
      },
      "outputs": [
        {
          "output_type": "execute_result",
          "data": {
            "text/plain": [
              "happiness    1  1     1  1     2  1     3    2  2     1  2     2  2     3  \\\n",
              "marital                                                                     \n",
              "fe         348        0        0        0  642        0        0        0   \n",
              "fem          0        5        0        0    0        0        0        0   \n",
              "mal          0      107       33       56    0      229      114      210   \n",
              "male         0       99        0        0    0        0        0        0   \n",
              "\n",
              "happiness    3  3     1  3     2  3     3  \n",
              "marital                                    \n",
              "fe         153        0        0        0  \n",
              "fem          0        0        0        0  \n",
              "mal          0       33       45       68  \n",
              "male         0        0        0        0  "
            ],
            "text/html": [
              "\n",
              "  <div id=\"df-a6ca227b-4742-4e4e-a970-130f1b2c1b9a\" class=\"colab-df-container\">\n",
              "    <div>\n",
              "<style scoped>\n",
              "    .dataframe tbody tr th:only-of-type {\n",
              "        vertical-align: middle;\n",
              "    }\n",
              "\n",
              "    .dataframe tbody tr th {\n",
              "        vertical-align: top;\n",
              "    }\n",
              "\n",
              "    .dataframe thead th {\n",
              "        text-align: right;\n",
              "    }\n",
              "</style>\n",
              "<table border=\"1\" class=\"dataframe\">\n",
              "  <thead>\n",
              "    <tr style=\"text-align: right;\">\n",
              "      <th>happiness</th>\n",
              "      <th>1</th>\n",
              "      <th>1     1</th>\n",
              "      <th>1     2</th>\n",
              "      <th>1     3</th>\n",
              "      <th>2</th>\n",
              "      <th>2     1</th>\n",
              "      <th>2     2</th>\n",
              "      <th>2     3</th>\n",
              "      <th>3</th>\n",
              "      <th>3     1</th>\n",
              "      <th>3     2</th>\n",
              "      <th>3     3</th>\n",
              "    </tr>\n",
              "    <tr>\n",
              "      <th>marital</th>\n",
              "      <th></th>\n",
              "      <th></th>\n",
              "      <th></th>\n",
              "      <th></th>\n",
              "      <th></th>\n",
              "      <th></th>\n",
              "      <th></th>\n",
              "      <th></th>\n",
              "      <th></th>\n",
              "      <th></th>\n",
              "      <th></th>\n",
              "      <th></th>\n",
              "    </tr>\n",
              "  </thead>\n",
              "  <tbody>\n",
              "    <tr>\n",
              "      <th>fe</th>\n",
              "      <td>348</td>\n",
              "      <td>0</td>\n",
              "      <td>0</td>\n",
              "      <td>0</td>\n",
              "      <td>642</td>\n",
              "      <td>0</td>\n",
              "      <td>0</td>\n",
              "      <td>0</td>\n",
              "      <td>153</td>\n",
              "      <td>0</td>\n",
              "      <td>0</td>\n",
              "      <td>0</td>\n",
              "    </tr>\n",
              "    <tr>\n",
              "      <th>fem</th>\n",
              "      <td>0</td>\n",
              "      <td>5</td>\n",
              "      <td>0</td>\n",
              "      <td>0</td>\n",
              "      <td>0</td>\n",
              "      <td>0</td>\n",
              "      <td>0</td>\n",
              "      <td>0</td>\n",
              "      <td>0</td>\n",
              "      <td>0</td>\n",
              "      <td>0</td>\n",
              "      <td>0</td>\n",
              "    </tr>\n",
              "    <tr>\n",
              "      <th>mal</th>\n",
              "      <td>0</td>\n",
              "      <td>107</td>\n",
              "      <td>33</td>\n",
              "      <td>56</td>\n",
              "      <td>0</td>\n",
              "      <td>229</td>\n",
              "      <td>114</td>\n",
              "      <td>210</td>\n",
              "      <td>0</td>\n",
              "      <td>33</td>\n",
              "      <td>45</td>\n",
              "      <td>68</td>\n",
              "    </tr>\n",
              "    <tr>\n",
              "      <th>male</th>\n",
              "      <td>0</td>\n",
              "      <td>99</td>\n",
              "      <td>0</td>\n",
              "      <td>0</td>\n",
              "      <td>0</td>\n",
              "      <td>0</td>\n",
              "      <td>0</td>\n",
              "      <td>0</td>\n",
              "      <td>0</td>\n",
              "      <td>0</td>\n",
              "      <td>0</td>\n",
              "      <td>0</td>\n",
              "    </tr>\n",
              "  </tbody>\n",
              "</table>\n",
              "</div>\n",
              "    <div class=\"colab-df-buttons\">\n",
              "\n",
              "  <div class=\"colab-df-container\">\n",
              "    <button class=\"colab-df-convert\" onclick=\"convertToInteractive('df-a6ca227b-4742-4e4e-a970-130f1b2c1b9a')\"\n",
              "            title=\"Convert this dataframe to an interactive table.\"\n",
              "            style=\"display:none;\">\n",
              "\n",
              "  <svg xmlns=\"http://www.w3.org/2000/svg\" height=\"24px\" viewBox=\"0 -960 960 960\">\n",
              "    <path d=\"M120-120v-720h720v720H120Zm60-500h600v-160H180v160Zm220 220h160v-160H400v160Zm0 220h160v-160H400v160ZM180-400h160v-160H180v160Zm440 0h160v-160H620v160ZM180-180h160v-160H180v160Zm440 0h160v-160H620v160Z\"/>\n",
              "  </svg>\n",
              "    </button>\n",
              "\n",
              "  <style>\n",
              "    .colab-df-container {\n",
              "      display:flex;\n",
              "      gap: 12px;\n",
              "    }\n",
              "\n",
              "    .colab-df-convert {\n",
              "      background-color: #E8F0FE;\n",
              "      border: none;\n",
              "      border-radius: 50%;\n",
              "      cursor: pointer;\n",
              "      display: none;\n",
              "      fill: #1967D2;\n",
              "      height: 32px;\n",
              "      padding: 0 0 0 0;\n",
              "      width: 32px;\n",
              "    }\n",
              "\n",
              "    .colab-df-convert:hover {\n",
              "      background-color: #E2EBFA;\n",
              "      box-shadow: 0px 1px 2px rgba(60, 64, 67, 0.3), 0px 1px 3px 1px rgba(60, 64, 67, 0.15);\n",
              "      fill: #174EA6;\n",
              "    }\n",
              "\n",
              "    .colab-df-buttons div {\n",
              "      margin-bottom: 4px;\n",
              "    }\n",
              "\n",
              "    [theme=dark] .colab-df-convert {\n",
              "      background-color: #3B4455;\n",
              "      fill: #D2E3FC;\n",
              "    }\n",
              "\n",
              "    [theme=dark] .colab-df-convert:hover {\n",
              "      background-color: #434B5C;\n",
              "      box-shadow: 0px 1px 3px 1px rgba(0, 0, 0, 0.15);\n",
              "      filter: drop-shadow(0px 1px 2px rgba(0, 0, 0, 0.3));\n",
              "      fill: #FFFFFF;\n",
              "    }\n",
              "  </style>\n",
              "\n",
              "    <script>\n",
              "      const buttonEl =\n",
              "        document.querySelector('#df-a6ca227b-4742-4e4e-a970-130f1b2c1b9a button.colab-df-convert');\n",
              "      buttonEl.style.display =\n",
              "        google.colab.kernel.accessAllowed ? 'block' : 'none';\n",
              "\n",
              "      async function convertToInteractive(key) {\n",
              "        const element = document.querySelector('#df-a6ca227b-4742-4e4e-a970-130f1b2c1b9a');\n",
              "        const dataTable =\n",
              "          await google.colab.kernel.invokeFunction('convertToInteractive',\n",
              "                                                    [key], {});\n",
              "        if (!dataTable) return;\n",
              "\n",
              "        const docLinkHtml = 'Like what you see? Visit the ' +\n",
              "          '<a target=\"_blank\" href=https://colab.research.google.com/notebooks/data_table.ipynb>data table notebook</a>'\n",
              "          + ' to learn more about interactive tables.';\n",
              "        element.innerHTML = '';\n",
              "        dataTable['output_type'] = 'display_data';\n",
              "        await google.colab.output.renderOutput(dataTable, element);\n",
              "        const docLink = document.createElement('div');\n",
              "        docLink.innerHTML = docLinkHtml;\n",
              "        element.appendChild(docLink);\n",
              "      }\n",
              "    </script>\n",
              "  </div>\n",
              "\n",
              "\n",
              "<div id=\"df-ca2cbe04-51ab-42f4-b294-0480addbc311\">\n",
              "  <button class=\"colab-df-quickchart\" onclick=\"quickchart('df-ca2cbe04-51ab-42f4-b294-0480addbc311')\"\n",
              "            title=\"Suggest charts\"\n",
              "            style=\"display:none;\">\n",
              "\n",
              "<svg xmlns=\"http://www.w3.org/2000/svg\" height=\"24px\"viewBox=\"0 0 24 24\"\n",
              "     width=\"24px\">\n",
              "    <g>\n",
              "        <path d=\"M19 3H5c-1.1 0-2 .9-2 2v14c0 1.1.9 2 2 2h14c1.1 0 2-.9 2-2V5c0-1.1-.9-2-2-2zM9 17H7v-7h2v7zm4 0h-2V7h2v10zm4 0h-2v-4h2v4z\"/>\n",
              "    </g>\n",
              "</svg>\n",
              "  </button>\n",
              "\n",
              "<style>\n",
              "  .colab-df-quickchart {\n",
              "      --bg-color: #E8F0FE;\n",
              "      --fill-color: #1967D2;\n",
              "      --hover-bg-color: #E2EBFA;\n",
              "      --hover-fill-color: #174EA6;\n",
              "      --disabled-fill-color: #AAA;\n",
              "      --disabled-bg-color: #DDD;\n",
              "  }\n",
              "\n",
              "  [theme=dark] .colab-df-quickchart {\n",
              "      --bg-color: #3B4455;\n",
              "      --fill-color: #D2E3FC;\n",
              "      --hover-bg-color: #434B5C;\n",
              "      --hover-fill-color: #FFFFFF;\n",
              "      --disabled-bg-color: #3B4455;\n",
              "      --disabled-fill-color: #666;\n",
              "  }\n",
              "\n",
              "  .colab-df-quickchart {\n",
              "    background-color: var(--bg-color);\n",
              "    border: none;\n",
              "    border-radius: 50%;\n",
              "    cursor: pointer;\n",
              "    display: none;\n",
              "    fill: var(--fill-color);\n",
              "    height: 32px;\n",
              "    padding: 0;\n",
              "    width: 32px;\n",
              "  }\n",
              "\n",
              "  .colab-df-quickchart:hover {\n",
              "    background-color: var(--hover-bg-color);\n",
              "    box-shadow: 0 1px 2px rgba(60, 64, 67, 0.3), 0 1px 3px 1px rgba(60, 64, 67, 0.15);\n",
              "    fill: var(--button-hover-fill-color);\n",
              "  }\n",
              "\n",
              "  .colab-df-quickchart-complete:disabled,\n",
              "  .colab-df-quickchart-complete:disabled:hover {\n",
              "    background-color: var(--disabled-bg-color);\n",
              "    fill: var(--disabled-fill-color);\n",
              "    box-shadow: none;\n",
              "  }\n",
              "\n",
              "  .colab-df-spinner {\n",
              "    border: 2px solid var(--fill-color);\n",
              "    border-color: transparent;\n",
              "    border-bottom-color: var(--fill-color);\n",
              "    animation:\n",
              "      spin 1s steps(1) infinite;\n",
              "  }\n",
              "\n",
              "  @keyframes spin {\n",
              "    0% {\n",
              "      border-color: transparent;\n",
              "      border-bottom-color: var(--fill-color);\n",
              "      border-left-color: var(--fill-color);\n",
              "    }\n",
              "    20% {\n",
              "      border-color: transparent;\n",
              "      border-left-color: var(--fill-color);\n",
              "      border-top-color: var(--fill-color);\n",
              "    }\n",
              "    30% {\n",
              "      border-color: transparent;\n",
              "      border-left-color: var(--fill-color);\n",
              "      border-top-color: var(--fill-color);\n",
              "      border-right-color: var(--fill-color);\n",
              "    }\n",
              "    40% {\n",
              "      border-color: transparent;\n",
              "      border-right-color: var(--fill-color);\n",
              "      border-top-color: var(--fill-color);\n",
              "    }\n",
              "    60% {\n",
              "      border-color: transparent;\n",
              "      border-right-color: var(--fill-color);\n",
              "    }\n",
              "    80% {\n",
              "      border-color: transparent;\n",
              "      border-right-color: var(--fill-color);\n",
              "      border-bottom-color: var(--fill-color);\n",
              "    }\n",
              "    90% {\n",
              "      border-color: transparent;\n",
              "      border-bottom-color: var(--fill-color);\n",
              "    }\n",
              "  }\n",
              "</style>\n",
              "\n",
              "  <script>\n",
              "    async function quickchart(key) {\n",
              "      const quickchartButtonEl =\n",
              "        document.querySelector('#' + key + ' button');\n",
              "      quickchartButtonEl.disabled = true;  // To prevent multiple clicks.\n",
              "      quickchartButtonEl.classList.add('colab-df-spinner');\n",
              "      try {\n",
              "        const charts = await google.colab.kernel.invokeFunction(\n",
              "            'suggestCharts', [key], {});\n",
              "      } catch (error) {\n",
              "        console.error('Error during call to suggestCharts:', error);\n",
              "      }\n",
              "      quickchartButtonEl.classList.remove('colab-df-spinner');\n",
              "      quickchartButtonEl.classList.add('colab-df-quickchart-complete');\n",
              "    }\n",
              "    (() => {\n",
              "      let quickchartButtonEl =\n",
              "        document.querySelector('#df-ca2cbe04-51ab-42f4-b294-0480addbc311 button');\n",
              "      quickchartButtonEl.style.display =\n",
              "        google.colab.kernel.accessAllowed ? 'block' : 'none';\n",
              "    })();\n",
              "  </script>\n",
              "</div>\n",
              "\n",
              "    </div>\n",
              "  </div>\n"
            ],
            "application/vnd.google.colaboratory.intrinsic+json": {
              "type": "dataframe",
              "summary": "{\n  \"name\": \"pd\",\n  \"rows\": 4,\n  \"fields\": [\n    {\n      \"column\": \"marital\",\n      \"properties\": {\n        \"dtype\": \"string\",\n        \"num_unique_values\": 4,\n        \"samples\": [\n          \"fem\",\n          \"male\",\n          \"fe\"\n        ],\n        \"semantic_type\": \"\",\n        \"description\": \"\"\n      }\n    },\n    {\n      \"column\": \"1\",\n      \"properties\": {\n        \"dtype\": \"number\",\n        \"std\": 174,\n        \"min\": 0,\n        \"max\": 348,\n        \"num_unique_values\": 2,\n        \"samples\": [\n          0,\n          348\n        ],\n        \"semantic_type\": \"\",\n        \"description\": \"\"\n      }\n    },\n    {\n      \"column\": \"1     1\",\n      \"properties\": {\n        \"dtype\": \"number\",\n        \"std\": 58,\n        \"min\": 0,\n        \"max\": 107,\n        \"num_unique_values\": 4,\n        \"samples\": [\n          5,\n          99\n        ],\n        \"semantic_type\": \"\",\n        \"description\": \"\"\n      }\n    },\n    {\n      \"column\": \"1     2\",\n      \"properties\": {\n        \"dtype\": \"number\",\n        \"std\": 16,\n        \"min\": 0,\n        \"max\": 33,\n        \"num_unique_values\": 2,\n        \"samples\": [\n          33,\n          0\n        ],\n        \"semantic_type\": \"\",\n        \"description\": \"\"\n      }\n    },\n    {\n      \"column\": \"1     3\",\n      \"properties\": {\n        \"dtype\": \"number\",\n        \"std\": 28,\n        \"min\": 0,\n        \"max\": 56,\n        \"num_unique_values\": 2,\n        \"samples\": [\n          56,\n          0\n        ],\n        \"semantic_type\": \"\",\n        \"description\": \"\"\n      }\n    },\n    {\n      \"column\": \"2\",\n      \"properties\": {\n        \"dtype\": \"number\",\n        \"std\": 321,\n        \"min\": 0,\n        \"max\": 642,\n        \"num_unique_values\": 2,\n        \"samples\": [\n          0,\n          642\n        ],\n        \"semantic_type\": \"\",\n        \"description\": \"\"\n      }\n    },\n    {\n      \"column\": \"2     1\",\n      \"properties\": {\n        \"dtype\": \"number\",\n        \"std\": 114,\n        \"min\": 0,\n        \"max\": 229,\n        \"num_unique_values\": 2,\n        \"samples\": [\n          229,\n          0\n        ],\n        \"semantic_type\": \"\",\n        \"description\": \"\"\n      }\n    },\n    {\n      \"column\": \"2     2\",\n      \"properties\": {\n        \"dtype\": \"number\",\n        \"std\": 57,\n        \"min\": 0,\n        \"max\": 114,\n        \"num_unique_values\": 2,\n        \"samples\": [\n          114,\n          0\n        ],\n        \"semantic_type\": \"\",\n        \"description\": \"\"\n      }\n    },\n    {\n      \"column\": \"2     3\",\n      \"properties\": {\n        \"dtype\": \"number\",\n        \"std\": 105,\n        \"min\": 0,\n        \"max\": 210,\n        \"num_unique_values\": 2,\n        \"samples\": [\n          210,\n          0\n        ],\n        \"semantic_type\": \"\",\n        \"description\": \"\"\n      }\n    },\n    {\n      \"column\": \"3\",\n      \"properties\": {\n        \"dtype\": \"number\",\n        \"std\": 76,\n        \"min\": 0,\n        \"max\": 153,\n        \"num_unique_values\": 2,\n        \"samples\": [\n          0,\n          153\n        ],\n        \"semantic_type\": \"\",\n        \"description\": \"\"\n      }\n    },\n    {\n      \"column\": \"3     1\",\n      \"properties\": {\n        \"dtype\": \"number\",\n        \"std\": 16,\n        \"min\": 0,\n        \"max\": 33,\n        \"num_unique_values\": 2,\n        \"samples\": [\n          33,\n          0\n        ],\n        \"semantic_type\": \"\",\n        \"description\": \"\"\n      }\n    },\n    {\n      \"column\": \"3     2\",\n      \"properties\": {\n        \"dtype\": \"number\",\n        \"std\": 22,\n        \"min\": 0,\n        \"max\": 45,\n        \"num_unique_values\": 2,\n        \"samples\": [\n          45,\n          0\n        ],\n        \"semantic_type\": \"\",\n        \"description\": \"\"\n      }\n    },\n    {\n      \"column\": \"3     3\",\n      \"properties\": {\n        \"dtype\": \"number\",\n        \"std\": 34,\n        \"min\": 0,\n        \"max\": 68,\n        \"num_unique_values\": 2,\n        \"samples\": [\n          68,\n          0\n        ],\n        \"semantic_type\": \"\",\n        \"description\": \"\"\n      }\n    }\n  ]\n}"
            }
          },
          "metadata": {},
          "execution_count": 78
        }
      ],
      "source": [
        "pd.crosstab(happy['marital'], happy['happiness'])"
      ]
    }
  ],
  "metadata": {
    "colab": {
      "provenance": []
    },
    "kernelspec": {
      "display_name": "Python 3",
      "name": "python3"
    },
    "language_info": {
      "codemirror_mode": {
        "name": "ipython",
        "version": 3
      },
      "file_extension": ".py",
      "mimetype": "text/x-python",
      "name": "python",
      "nbconvert_exporter": "python",
      "pygments_lexer": "ipython3",
      "version": "3.9.6"
    }
  },
  "nbformat": 4,
  "nbformat_minor": 0
}